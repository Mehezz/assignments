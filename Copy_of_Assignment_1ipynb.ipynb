{
  "nbformat": 4,
  "nbformat_minor": 0,
  "metadata": {
    "colab": {
      "name": "Copy of Assignment_1ipynb",
      "provenance": [],
      "authorship_tag": "ABX9TyPthJExJQZ88vcklCSGLXdC",
      "include_colab_link": true
    },
    "kernelspec": {
      "name": "python3",
      "display_name": "Python 3"
    }
  },
  "cells": [
    {
      "cell_type": "markdown",
      "metadata": {
        "id": "view-in-github",
        "colab_type": "text"
      },
      "source": [
        "<a href=\"https://colab.research.google.com/github/Mehezz/assignments/blob/master/Copy_of_Assignment_1ipynb.ipynb\" target=\"_parent\"><img src=\"https://colab.research.google.com/assets/colab-badge.svg\" alt=\"Open In Colab\"/></a>"
      ]
    },
    {
      "cell_type": "code",
      "metadata": {
        "id": "Bp8Sk-6VTNpO",
        "colab_type": "code",
        "outputId": "294209e9-0582-43b0-9eb4-ab52d8154865",
        "colab": {
          "base_uri": "https://localhost:8080/",
          "height": 34
        }
      },
      "source": [
        "''' write a program to get a user input from a list data type. Return a list by removing all the duplicates. '''\n",
        "lst=[{4,4,5,6,8,4,5}]\n",
        "\n",
        "print(lst)"
      ],
      "execution_count": 0,
      "outputs": [
        {
          "output_type": "stream",
          "text": [
            "[{8, 4, 5, 6}]\n"
          ],
          "name": "stdout"
        }
      ]
    },
    {
      "cell_type": "code",
      "metadata": {
        "id": "RdEWIKvQs4eV",
        "colab_type": "code",
        "outputId": "a904a64a-931d-4ec9-972a-0c0a00c9aaa3",
        "colab": {
          "base_uri": "https://localhost:8080/",
          "height": 84
        }
      },
      "source": [
        "'''write a program to create a user defined tuple with int data type and perform following operations'''\n",
        "\n",
        "\n",
        "tuple=(1,2,3,4,5,6,7)\n",
        "\n",
        "# length of the tuple \n",
        "print(len(tuple))\n",
        "\n",
        "# sum of elements of tuple\n",
        "print(sum(tuple))\n",
        "\n",
        "# largest and smallest element of tuple \n",
        "print(max(tuple))\n",
        "print(min(tuple))        \n"
      ],
      "execution_count": 0,
      "outputs": [
        {
          "output_type": "stream",
          "text": [
            "7\n",
            "28\n",
            "7\n",
            "1\n"
          ],
          "name": "stdout"
        }
      ]
    },
    {
      "cell_type": "code",
      "metadata": {
        "id": "6za9-hihuoOe",
        "colab_type": "code",
        "outputId": "ecc5d010-152f-4a5c-f148-42e87d9f5960",
        "colab": {
          "base_uri": "https://localhost:8080/",
          "height": 34
        }
      },
      "source": [
        "'''Given a no. and ith bit change the ith bit of that no. to 1'''\n",
        "\n",
        "num=13\n",
        "i=1\n",
        "magnum=30>>i\n",
        "\n",
        "ith_bit= num and magnum \n",
        "\n",
        "print(ith_bit)\n"
      ],
      "execution_count": 0,
      "outputs": [
        {
          "output_type": "stream",
          "text": [
            "15\n"
          ],
          "name": "stdout"
        }
      ]
    },
    {
      "cell_type": "code",
      "metadata": {
        "id": "Tnmu3gZtvXhD",
        "colab_type": "code",
        "outputId": "1df9d4cd-8fbc-4676-cd3f-c1e4a23891f2",
        "colab": {
          "base_uri": "https://localhost:8080/",
          "height": 50
        }
      },
      "source": [
        "''' Given a number, print 1 if no. is odd otherwise print 0. '''\n",
        "\n",
        "num_1=88\n",
        "num_1=89%2\n",
        "\n",
        "print(num_1 )\n",
        "\n",
        "num_2=80\n",
        "num_2=80%2\n",
        "\n",
        "print(num)\n",
        "\n",
        "    "
      ],
      "execution_count": 0,
      "outputs": [
        {
          "output_type": "stream",
          "text": [
            "1\n",
            "0\n"
          ],
          "name": "stdout"
        }
      ]
    },
    {
      "cell_type": "code",
      "metadata": {
        "id": "W534-j7LwKL3",
        "colab_type": "code",
        "outputId": "c55eb633-221e-42b6-83dc-0177bcfde789",
        "colab": {
          "base_uri": "https://localhost:8080/",
          "height": 50
        }
      },
      "source": [
        "''' Given two list A and B. Write a program to merge them into a single sorted list that contains every item from list A and \n",
        "B in ascending order '''\n",
        "\n",
        "A=['mhz','nvn','abc']\n",
        "B=['fgh','ijk','tia']\n",
        "\n",
        "list=A+B\n",
        "\n",
        "print(list)\n",
        "list.sort()\n",
        "\n",
        "print(list)"
      ],
      "execution_count": 0,
      "outputs": [
        {
          "output_type": "stream",
          "text": [
            "['mhz', 'nvn', 'abc', 'fgh', 'ijk', 'tia']\n",
            "['abc', 'fgh', 'ijk', 'mhz', 'nvn', 'tia']\n"
          ],
          "name": "stdout"
        }
      ]
    },
    {
      "cell_type": "code",
      "metadata": {
        "id": "JcFzrYkMxduE",
        "colab_type": "code",
        "colab": {}
      },
      "source": [
        ""
      ],
      "execution_count": 0,
      "outputs": []
    },
    {
      "cell_type": "code",
      "metadata": {
        "id": "jCnjDVsJxdxd",
        "colab_type": "code",
        "outputId": "5f0de1e5-081f-4ba6-91f4-32384676a541",
        "colab": {
          "base_uri": "https://localhost:8080/",
          "height": 34
        }
      },
      "source": [
        "''' Create a user defined dict to store names and marks of 5 students. Sort yhe dict. according to marks are return this sorted \n",
        "dict to the user'''\n",
        "\n",
        "students_marks={'Berlin':70,'Oslo':0,'Moscow':50,'Nairobi':100}\n",
        "\n",
        "import operator\n",
        "sorted_students_marks=sorted(students_marks.items(),key=operator.itemgetter(1))\n",
        "print(sorted_students_marks)\n",
        "    \n",
        "    "
      ],
      "execution_count": 0,
      "outputs": [
        {
          "output_type": "stream",
          "text": [
            "[('Oslo', 0), ('Moscow', 50), ('Berlin', 70), ('Nairobi', 100)]\n"
          ],
          "name": "stdout"
        }
      ]
    },
    {
      "cell_type": "code",
      "metadata": {
        "id": "rwOScklkvXe3",
        "colab_type": "code",
        "colab": {}
      },
      "source": [
        ""
      ],
      "execution_count": 0,
      "outputs": []
    }
  ]
}